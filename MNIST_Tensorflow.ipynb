{
  "nbformat": 4,
  "nbformat_minor": 0,
  "metadata": {
    "colab": {
      "name": "MNIST_Tensorflow.ipynb",
      "provenance": [],
      "authorship_tag": "ABX9TyMULF0gxOrEs4IK2XZQj864",
      "include_colab_link": true
    },
    "kernelspec": {
      "name": "python3",
      "display_name": "Python 3"
    }
  },
  "cells": [
    {
      "cell_type": "markdown",
      "metadata": {
        "id": "view-in-github",
        "colab_type": "text"
      },
      "source": [
        "<a href=\"https://colab.research.google.com/github/nikhilchakravartula/Tensorflow/blob/master/MNIST_Tensorflow.ipynb\" target=\"_parent\"><img src=\"https://colab.research.google.com/assets/colab-badge.svg\" alt=\"Open In Colab\"/></a>"
      ]
    },
    {
      "cell_type": "markdown",
      "metadata": {
        "id": "wKK0ReeE7tiO",
        "colab_type": "text"
      },
      "source": [
        "The goal of this project is to get myself familiarized with tensorflow."
      ]
    },
    {
      "cell_type": "code",
      "metadata": {
        "id": "PPJtKPvY74Qs",
        "colab_type": "code",
        "colab": {}
      },
      "source": [
        "import tensorflow as tf\n",
        "import numpy as np\n",
        "from matplotlib import pyplot as plt"
      ],
      "execution_count": 0,
      "outputs": []
    },
    {
      "cell_type": "markdown",
      "metadata": {
        "id": "HnIqXXC3-ndH",
        "colab_type": "text"
      },
      "source": [
        "Getting along with the dataset...\n"
      ]
    },
    {
      "cell_type": "code",
      "metadata": {
        "id": "iaS8QcVN757T",
        "colab_type": "code",
        "colab": {
          "base_uri": "https://localhost:8080/",
          "height": 332
        },
        "outputId": "6b4c5108-c4f9-4b5a-bb4a-8d3edfb9d6d2"
      },
      "source": [
        "(X_train,Y_train),(X_test,Y_test) =  tf.keras.datasets.mnist.load_data()\n",
        "print(\"Shape of train: \",X_train.shape)\n",
        "print(\"Shape of test: \",X_test.shape)\n",
        "\n",
        "#Count number of samples in each class\n",
        "unique, counts = np.unique(Y_train, return_counts = True)\n",
        "\n",
        "print(\"Count of labels:\", dict(zip(unique,counts)))\n",
        "plt.imshow(X_train[0])\n",
        "\n",
        "#Convert labels to one-hot\n",
        "Y_train = tf.keras.utils.to_categorical(Y_train,num_classes=len(unique))\n",
        "Y_test = tf.keras.utils.to_categorical(Y_test,num_classes=len(unique))\n",
        "print(\"Y label one hot sample: \",Y_train[0])\n"
      ],
      "execution_count": 25,
      "outputs": [
        {
          "output_type": "stream",
          "text": [
            "Shape of train:  (60000, 28, 28)\n",
            "Shape of test:  (10000, 28, 28)\n",
            "Count of labels: {0: 5923, 1: 6742, 2: 5958, 3: 6131, 4: 5842, 5: 5421, 6: 5918, 7: 6265, 8: 5851, 9: 5949}\n",
            "Y label one hot sample:  [0. 0. 0. 0. 0. 1. 0. 0. 0. 0.]\n"
          ],
          "name": "stdout"
        },
        {
          "output_type": "display_data",
          "data": {
            "image/png": "[encoded data removed]",
            "text/plain": [
              "<Figure size 432x288 with 1 Axes>"
            ]
          },
          "metadata": {
            "tags": [],
            "needs_background": "light"
          }
        }
      ]
    },
    {
      "cell_type": "markdown",
      "metadata": {
        "id": "CkRallAd-iuu",
        "colab_type": "text"
      },
      "source": [
        "Normalize the data."
      ]
    },
    {
      "cell_type": "code",
      "metadata": {
        "id": "8sIPptz7-6BX",
        "colab_type": "code",
        "colab": {
          "base_uri": "https://localhost:8080/",
          "height": 282
        },
        "outputId": "0c46fd9a-f5c2-4cbc-a5f6-97be0a51eab4"
      },
      "source": [
        "X_train = X_train/255.\n",
        "X_test  = X_test/255.\n",
        "plt.imshow(X_train[0])"
      ],
      "execution_count": 15,
      "outputs": [
        {
          "output_type": "execute_result",
          "data": {
            "text/plain": [
              "<matplotlib.image.AxesImage at 0x7f5315760d68>"
            ]
          },
          "metadata": {
            "tags": []
          },
          "execution_count": 15
        },
        {
          "output_type": "display_data",
          "data": {
            "image/png": "[encoded data removed]",
            "text/plain": [
              "<Figure size 432x288 with 1 Axes>"
            ]
          },
          "metadata": {
            "tags": [],
            "needs_background": "light"
          }
        }
      ]
    },
    {
      "cell_type": "markdown",
      "metadata": {
        "id": "QjR9lWp-_SxR",
        "colab_type": "text"
      },
      "source": [
        "Building the model"
      ]
    },
    {
      "cell_type": "code",
      "metadata": {
        "id": "MSkhauvW_U5N",
        "colab_type": "code",
        "colab": {
          "base_uri": "https://localhost:8080/",
          "height": 521
        },
        "outputId": "6e3a0f47-9a8a-4469-a7a4-d8a3518ca766"
      },
      "source": [
        "row = 1\n",
        "col=2\n",
        "num_classes = len(unique)\n",
        "\n",
        "model = tf.keras.models.Sequential([\n",
        "    tf.keras.layers.Flatten(input_shape = (X_train.shape[row],X_train.shape[col])),\n",
        "    tf.keras.layers.Dense(128,activation=\"relu\"),\n",
        "    tf.keras.layers.Dropout(0.2),\n",
        "    tf.keras.layers.Dense(64,activation=\"relu\"),\n",
        "    tf.keras.layers.Dropout(0.2),\n",
        "    tf.keras.layers.Dense(num_classes,activation=\"softmax\")\n",
        "  ]\n",
        ")\n",
        "\n",
        "model.compile(optimizer=\"adam\",loss=\"categorical_crossentropy\",metrics=['accuracy'])\n",
        "train_metrics  = model.fit(X_train,Y_train,batch_size = 64,epochs=15,validation_data=(X_test,Y_test))\n"
      ],
      "execution_count": 38,
      "outputs": [
        {
          "output_type": "stream",
          "text": [
            "Epoch 1/15\n",
            "938/938 [==============================] - 3s 3ms/step - loss: 3.2243 - accuracy: 0.6552 - val_loss: 0.5032 - val_accuracy: 0.8640\n",
            "Epoch 2/15\n",
            "938/938 [==============================] - 3s 3ms/step - loss: 0.7125 - accuracy: 0.8052 - val_loss: 0.3472 - val_accuracy: 0.8994\n",
            "Epoch 3/15\n",
            "938/938 [==============================] - 3s 3ms/step - loss: 0.4967 - accuracy: 0.8618 - val_loss: 0.2809 - val_accuracy: 0.9241\n",
            "Epoch 4/15\n",
            "938/938 [==============================] - 3s 3ms/step - loss: 0.3975 - accuracy: 0.8907 - val_loss: 0.2295 - val_accuracy: 0.9383\n",
            "Epoch 5/15\n",
            "938/938 [==============================] - 3s 3ms/step - loss: 0.3320 - accuracy: 0.9085 - val_loss: 0.2122 - val_accuracy: 0.9417\n",
            "Epoch 6/15\n",
            "938/938 [==============================] - 3s 3ms/step - loss: 0.2825 - accuracy: 0.9230 - val_loss: 0.1729 - val_accuracy: 0.9545\n",
            "Epoch 7/15\n",
            "938/938 [==============================] - 3s 3ms/step - loss: 0.2593 - accuracy: 0.9282 - val_loss: 0.1569 - val_accuracy: 0.9602\n",
            "Epoch 8/15\n",
            "938/938 [==============================] - 3s 3ms/step - loss: 0.2344 - accuracy: 0.9353 - val_loss: 0.1557 - val_accuracy: 0.9569\n",
            "Epoch 9/15\n",
            "938/938 [==============================] - 3s 3ms/step - loss: 0.2125 - accuracy: 0.9408 - val_loss: 0.1603 - val_accuracy: 0.9620\n",
            "Epoch 10/15\n",
            "938/938 [==============================] - 3s 3ms/step - loss: 0.2007 - accuracy: 0.9439 - val_loss: 0.1583 - val_accuracy: 0.9598\n",
            "Epoch 11/15\n",
            "938/938 [==============================] - 3s 3ms/step - loss: 0.1870 - accuracy: 0.9478 - val_loss: 0.1386 - val_accuracy: 0.9642\n",
            "Epoch 12/15\n",
            "938/938 [==============================] - 3s 3ms/step - loss: 0.1842 - accuracy: 0.9492 - val_loss: 0.1469 - val_accuracy: 0.9652\n",
            "Epoch 13/15\n",
            "938/938 [==============================] - 3s 3ms/step - loss: 0.1704 - accuracy: 0.9529 - val_loss: 0.1314 - val_accuracy: 0.9671\n",
            "Epoch 14/15\n",
            "938/938 [==============================] - 3s 3ms/step - loss: 0.1650 - accuracy: 0.9546 - val_loss: 0.1364 - val_accuracy: 0.9688\n",
            "Epoch 15/15\n",
            "938/938 [==============================] - 3s 3ms/step - loss: 0.1605 - accuracy: 0.9556 - val_loss: 0.1403 - val_accuracy: 0.9664\n"
          ],
          "name": "stdout"
        }
      ]
    },
    {
      "cell_type": "code",
      "metadata": {
        "id": "Wl8IaB3JAnpg",
        "colab_type": "code",
        "colab": {
          "base_uri": "https://localhost:8080/",
          "height": 330
        },
        "outputId": "4b20e1d7-6f6f-4111-a6fd-98fee1582372"
      },
      "source": [
        "print(train_metrics.history.keys())\n",
        "plt.plot(train_metrics.history['loss'])\n",
        "plt.plot(train_metrics.history['val_loss'])\n",
        "plt.plot()\n",
        "plt.xlabel(\"Epochs\")\n",
        "plt.ylabel(\"Accuracy\")\n",
        "plt.legend(['Train loss','Validation loss'])\n",
        "plt.show()\n",
        "model.evaluate(X_test,Y_test)"
      ],
      "execution_count": 39,
      "outputs": [
        {
          "output_type": "stream",
          "text": [
            "dict_keys(['loss', 'accuracy', 'val_loss', 'val_accuracy'])\n"
          ],
          "name": "stdout"
        },
        {
          "output_type": "display_data",
          "data": {
            "image/png": "[encoded data removed]",
            "text/plain": [
              "<Figure size 432x288 with 1 Axes>"
            ]
          },
          "metadata": {
            "tags": [],
            "needs_background": "light"
          }
        },
        {
          "output_type": "stream",
          "text": [
            "313/313 [==============================] - 0s 1ms/step - loss: 0.1403 - accuracy: 0.9664\n"
          ],
          "name": "stdout"
        },
        {
          "output_type": "execute_result",
          "data": {
            "text/plain": [
              "[0.1402750313282013, 0.9664000272750854]"
            ]
          },
          "metadata": {
            "tags": []
          },
          "execution_count": 39
        }
      ]
    },
    {
      "cell_type": "markdown",
      "metadata": {
        "id": "VgwYX9pLKIJp",
        "colab_type": "text"
      },
      "source": [
        " **LEARNINGS:**\n",
        "1.   unique , counts  = np.unique(X,return_counts=True)\n",
        "2.   Zip(iterator1,iterator2,...) returns an iterator that has corresponding elements from the iterators.\n",
        "2.   One-Hot Keras: tf.keras.utils.to_categorical( Y, num_classes=10 )\n",
        "3.   Keras Flatten(input_shape=(,,,))\n",
        "4.   fit() will return a history object. history.history is a dict that contains all the metrics that were specified during model compilation. History.history.keys()\n",
        "\n",
        "\n",
        "\n",
        "\n"
      ]
    },
    {
      "cell_type": "code",
      "metadata": {
        "id": "CfjyQKECKh8Y",
        "colab_type": "code",
        "colab": {}
      },
      "source": [
        ""
      ],
      "execution_count": 0,
      "outputs": []
    }
  ]
}